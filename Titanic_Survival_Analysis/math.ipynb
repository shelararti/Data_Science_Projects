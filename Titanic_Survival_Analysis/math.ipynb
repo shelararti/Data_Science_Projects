{
 "cells": [
  {
   "cell_type": "markdown",
   "id": "dcf538b7",
   "metadata": {},
   "source": [
    "### 8. Encode Categorical Variables"
   ]
  },
  {
   "cell_type": "markdown",
   "id": "a86a1d4e",
   "metadata": {},
   "source": [
    "Machine learning models can't understand text. They need numbers.\n",
    "So when you have categorical data like Sex = male/female or Embarked = C/Q/S, you need to convert those into numbers."
   ]
  },
  {
   "cell_type": "markdown",
   "id": "a6e5a2cc",
   "metadata": {},
   "source": [
    "Each row uses binary flags (0 or 1) to show the category:\n",
    "\n",
    "If Sex_male = 1, it's male; if 0 → female.\n",
    "\n",
    "If Embarked_Q = 1, it's Queenstown.\n",
    "\n",
    "If Embarked_S = 1, it's Southampton.\n",
    "\n",
    "If both Embarked_Q and Embarked_S = 0, then it's Cherbourg (which was dropped because of drop_first=True)."
   ]
  },
  {
   "cell_type": "code",
   "execution_count": null,
   "id": "0e0c0969",
   "metadata": {},
   "outputs": [],
   "source": [
    "df=pd.get_dummies(df,columns=[\"Sex\",\"Embarked\"],drop_first=True)\n",
    "df"
   ]
  },
  {
   "cell_type": "markdown",
   "id": "7e143a37",
   "metadata": {},
   "source": [
    "### 10. Correlation Heatmap"
   ]
  },
  {
   "cell_type": "code",
   "execution_count": null,
   "id": "da992c7f",
   "metadata": {},
   "outputs": [],
   "source": [
    "df.corr"
   ]
  },
  {
   "cell_type": "markdown",
   "id": "20f82990",
   "metadata": {},
   "source": [
    "|           | Survived | Age   | Fare  | Pclass | Sex\\_male |\n",
    "| --------- | -------- | ----- | ----- | ------ | --------- |\n",
    "| Survived  | 1.00     | -0.08 | 0.26  | -0.34  | -0.54     |\n",
    "| Age       | -0.08    | 1.00  | 0.09  | 0.36   | 0.09      |\n",
    "| Fare      | 0.26     | 0.09  | 1.00  | -0.55  | -0.18     |\n",
    "| Pclass    | -0.34    | 0.36  | -0.55 | 1.00   | 0.13      |\n",
    "| Sex\\_male | -0.54    | 0.09  | -0.18 | 0.13   | 1.00      |\n"
   ]
  },
  {
   "cell_type": "markdown",
   "id": "f72c0a56",
   "metadata": {},
   "source": [
    "| Value Range  | Meaning              |\n",
    "| ------------ | -------------------- |\n",
    "| `0.7 to 1.0` | Strong correlation   |\n",
    "| `0.4 to 0.7` | Moderate correlation |\n",
    "| `0.1 to 0.4` | Weak correlation     |\n",
    "| `0 to 0.1`   | Very weak or none    |\n"
   ]
  },
  {
   "cell_type": "markdown",
   "id": "c9b0aa19",
   "metadata": {},
   "source": [
    "# Hypothesis Testing"
   ]
  },
  {
   "cell_type": "markdown",
   "id": "efb0adde",
   "metadata": {},
   "source": [
    "Hypothesis testing is a statistical method used to make decisions or inferences about a population based on sample data. It helps you answer questions like:\n",
    "\n",
    "\"Is there a real effect, or is it just due to random chance?\""
   ]
  },
  {
   "cell_type": "markdown",
   "id": "89433a01",
   "metadata": {},
   "source": [
    "- Null Hypothesis (H₀):\n",
    "There is no effect, no difference, or no relationship.\n",
    "Example: Gender does not affect survival.\n",
    "\n",
    "- Alternative Hypothesis (H₁ or Ha):\n",
    "There is an effect, a difference, or a relationship.\n",
    "Example: Gender does affect survival."
   ]
  },
  {
   "cell_type": "markdown",
   "id": "1b5cc523",
   "metadata": {},
   "source": [
    "The Process:\n",
    "\n",
    "1. State the hypotheses (H₀ and H₁).\n",
    "\n",
    "2. Choose a significance level (usually 0.05, i.e., 5% chance of being wrong).\n",
    "\n",
    "3. Collect and analyze data using a statistical test (like t-test, chi-square, etc.).\n",
    "\n",
    "4. Calculate the p-value (probability that the observed result could occur under H₀).\n",
    "\n",
    "5. Compare the p-value to your threshold (α):\n",
    "\n",
    "If p ≤ 0.05 → Reject H₀ (there’s likely a real effect).\n",
    "\n",
    "If p > 0.05 → Fail to reject H₀ (not enough evidence for a real effect).\n",
    "\n"
   ]
  },
  {
   "cell_type": "markdown",
   "id": "993612ff",
   "metadata": {},
   "source": [
    "### Match Your Scenario to the Right Test"
   ]
  },
  {
   "cell_type": "markdown",
   "id": "17db097b",
   "metadata": {},
   "source": [
    "| **Scenario**                                                         | **Data Types**                       | **Use This Test**                           | **Purpose**                                  |\n",
    "| -------------------------------------------------------------------- | ------------------------------------ | ------------------------------------------- | -------------------------------------------- |\n",
    "| Compare two groups (e.g., Male vs Female Age)                        | Numerical vs Categorical (2 groups)  | **t-test**                                  | Checks if means are different                |\n",
    "| Compare two groups (non-normal data)                                 | Numerical vs Categorical (2 groups)  | **Mann-Whitney U**                          | Same as t-test, but non-parametric           |\n",
    "| Compare more than two groups (e.g., Age by Pclass)                   | Numerical vs Categorical (3+ groups) | **ANOVA**                                   | Test mean differences across multiple groups |\n",
    "| Compare two categorical variables (e.g., Gender vs Survived)         | Categorical vs Categorical           | **Chi-Square Test**                         | Checks if there is a relationship            |\n",
    "| Correlation between two numerical variables (e.g., Age vs Fare)      | Numerical vs Numerical               | **Pearson Correlation**                     | Measures linear relationship                 |\n",
    "| Predict one variable from another (e.g., Survived from Age & Pclass) | Mixed                                | **Logistic Regression / Linear Regression** | Predict outcome                              |\n",
    "| Test if a sample mean differs from a known value                     | One Numerical Variable               | **One Sample t-test**                       | Compare to baseline (e.g., mean = 50)        |\n"
   ]
  },
  {
   "cell_type": "markdown",
   "id": "be10d68d",
   "metadata": {},
   "source": [
    "“Does a passenger’s class (Pclass) affect their chance of survival?”\n",
    "we use:\n",
    "\n",
    "✅ Chi-Square Test of Independence\n",
    "\n",
    "🔍 Why Chi-Square?\n",
    "Because:\n",
    "\n",
    "Pclass is categorical (values: 1, 2, 3).\n",
    "\n",
    "Survived is also categorical (values: 0 or 1).\n",
    "\n",
    "You’re checking if there’s a relationship between these two categorical variables."
   ]
  },
  {
   "cell_type": "markdown",
   "id": "d3ed751b",
   "metadata": {},
   "source": [
    "## Graph Selection Cheat Sheet\n",
    "\n",
    "| **Graph Type**        | **Use When You Want To...**                                               | **Best For**                        |\n",
    "| --------------------- | ------------------------------------------------------------------------- | ----------------------------------- |\n",
    "| **Bar Chart**         | Compare values across categories                                          | Categorical comparisons             |\n",
    "| **Line Chart**        | Show trends or changes over time                                          | Time-series data                    |\n",
    "| **Histogram**         | Visualize the distribution of a single numeric variable                   | Distribution of continuous data     |\n",
    "| **Box Plot**          | Compare distributions, spot outliers and medians                          | Statistical summaries per category  |\n",
    "| **Pie Chart**         | Show parts of a whole (simple proportion data)                            | Proportions with few categories     |\n",
    "| **Scatter Plot**      | Show relationships between two numeric variables                          | Correlation / relationship analysis |\n",
    "| **Heatmap**           | Show correlation or data intensity in matrix form                         | Feature relationships, correlation  |\n",
    "| **Violin Plot**       | Show data distribution + density across categories                        | Detailed distribution analysis      |\n",
    "| **Area Chart**        | Show cumulative trends over time (like stacked line chart)                | Time-based part-to-whole insights   |\n",
    "| **Stacked Bar Chart** | Show part-to-whole comparisons across categories                          | Multi-variable comparisons          |\n",
    "| **Bubble Chart**      | Show relationship with 3 numeric variables (like scatter + size encoding) | Advanced comparisons                |\n",
    "| **Pair Plot**         | Show relationships between all pairs of variables                         | Exploratory Data Analysis (EDA)     |\n",
    "| **Choropleth Map**    | Visualize data across geographical regions                                | Geographic data analysis            |\n",
    "| **Treemap**           | Visualize hierarchical data or proportions within categories              | Complex part-to-whole structures    |\n"
   ]
  }
 ],
 "metadata": {
  "language_info": {
   "name": "python"
  }
 },
 "nbformat": 4,
 "nbformat_minor": 5
}
